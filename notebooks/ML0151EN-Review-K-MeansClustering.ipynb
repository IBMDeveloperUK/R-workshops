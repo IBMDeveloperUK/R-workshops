{
 "cells": [
  {
   "cell_type": "markdown",
   "metadata": {
    "button": false,
    "new_sheet": false,
    "run_control": {
     "read_only": false
    }
   },
   "source": [
    "<a href=\"https://www.bigdatauniversity.com\"><img src = \"https://ibm.box.com/shared/static/cw2c7r3o20w9zn8gkecaeyjhgw3xdgbj.png\" width = 400, align = \"center\"></a>\n",
    "\n",
    "<h1 align=center><font size = 5> K-Means Clustering in R</font></h1>"
   ]
  },
  {
   "cell_type": "markdown",
   "metadata": {
    "button": false,
    "new_sheet": false,
    "run_control": {
     "read_only": false
    }
   },
   "source": [
    "## Introduction\n",
    "\n",
    "There are many **clustering** algorithms out there. In this exercise, we will be presenting the **K-means clustering** algorithm, which is considered to be one of the simplest clustering algorithms. Despite its simplicity, the K-means is vastly used for clustering in many data science applications, and is especially useful if you need to quickly discover insights from **unlabeled data**.\n",
    "\n",
    "Some real-world applications of k-means:\n",
    "- Customer segmentation\n",
    "- <p><a href = \"http://www.r-bloggers.com/clustering-search-keywords-using-k-means-clustering/\">Understand what the visitors of a website are trying to accomplish</a></p>\n",
    "- Pattern recognition\n",
    "- Machine learning\n",
    "- Data compression\n",
    "    \n",
    "\n",
    "-----------------"
   ]
  },
  {
   "cell_type": "markdown",
   "metadata": {
    "button": false,
    "new_sheet": false,
    "run_control": {
     "read_only": false
    }
   },
   "source": [
    "## Table of contents \n",
    "\n",
    "<div class=\"alert alert-block alert-info\" style=\"margin-top: 20px\">\n",
    "<font size = 3><strong>K-Means Clustering:</strong></font><br>\n",
    "- <p><a href=\"#ref1\">The problem we want to solve</a></p>\n",
    "- <p><a href=\"#ref2\">Framing the real problem to the application of the k-means algorithm</a></p>\n",
    "- <p><a href=\"#ref3\">The dataset</a></p>\n",
    "- <p><a href=\"#ref4\">A quick implementation</a></p>\n",
    "<p></p>\n",
    "</div>\n",
    "<br>\n",
    "\n",
    "\n",
    "----------------"
   ]
  },
  {
   "cell_type": "markdown",
   "metadata": {
    "button": false,
    "new_sheet": false,
    "run_control": {
     "read_only": false
    }
   },
   "source": [
    "<a id=\"ref1\"></a>\n",
    "# The problem to solve\n",
    "\n",
    "Imagine you have some money to invest and decide that you want to start a small fashion company with a friend (After all, if you sell clothes, you can get them for lower prices for yourself, your family and your friends). Your company's name will be <font color = red size = 4> *K<font size  = 1>&</font>M* </font> and the first product of your company will be white t-shirts (because everyone has them, and if everyone has them, they must buy it from somewhere). While talking to suppliers, sketching the t-shirt models, and discussing about your launch campaign, **two important questions** arose: \n",
    "\n",
    "- *How many t-shirts sizes should we have*?\n",
    "- *What dimensions should each t-shirt size have*?\n",
    "\n",
    "The first idea that comes to your mind is to check the size of one of your competitors' t-shirts. But then you recall that time when you bought two Small size t-shirts from two different brands to later realize that only one of them would fit. (The other would too, if it was yourself a couple of years ago).\n",
    "\n",
    "Your friend suggests that he would measure his shortest and tallest friends, and use those measurements to design the Small and Large sizes respectively. The Medium size would then have the average dimensions between the Large and Small sizes.\n",
    "\n",
    "After a lenghty discussion between you and your friend, without drawing any conclusion, you remember one thing that your university professor used to say in the class: \n",
    "\n",
    "<h1 align=center>'***Against facts there are no arguments.***'</h1>\n",
    "\n",
    "So you both agree to take a data-backed approach, and for this you can use the ** K-means algorithm**!\n",
    "\n",
    "------------"
   ]
  },
  {
   "cell_type": "markdown",
   "metadata": {
    "button": false,
    "new_sheet": false,
    "run_control": {
     "read_only": false
    }
   },
   "source": [
    "<a id=\"ref2\"></a>\n",
    "<a id=\"ref100\"></a>\n",
    "# Framing the real problem to the application of the k-means algorithm\n",
    "Instead of relying on the information from two people or copying the failure of others, why not explore the root-cause of this problem? You will look into the <font color = green>data of your potential customers </font> and run <font color = green>some experiments</font> to decide <font color = green>how many t-shirt sizes</font> you should have, and what should <font color = green>the dimensions of each t-shirt size</font> be.\n",
    "\n",
    "You might be wondering why those words in green appeared above. Each one of the highlighted items corresponds to an important component of the *K-means* implementation:\n",
    "\n",
    "- The <font color = green>data of your potential customers </font> corresponds to the <a href=\"#ref20\">**dataset**</a>;\n",
    "- <font color = green>\"Some experiments\"</font> refers to the multiple **number of iterations** of the algorithm;\n",
    "- <font color = green>How many t-shirt sizes</font> is defined by the **number of clusters**;\n",
    "- <font color = green>The dimensions of each t-shirt size</font> will be defined by the **cluster centroids**.\n",
    "\n",
    "If you don't understand some of the terms related to k-means, don't worry. We will go back to them later in this notebook.\n",
    "\n",
    "-------------------"
   ]
  },
  {
   "cell_type": "markdown",
   "metadata": {
    "button": false,
    "new_sheet": false,
    "run_control": {
     "read_only": false
    }
   },
   "source": [
    "<a id=\"ref3\"></a>\n",
    "<a id=\"ref20\"></a>\n",
    "\n",
    "# The dataset\n",
    "You decided that <font color = red size = 4> *K<font size  = 1>&</font>M* </font> will start its operations in Hong Kong. For this task, an open (publicly available) dataset will be used. <a href = \"http://socr.ucla.edu/docs/resources/SOCR_Data/SOCR_Data_Dinov_020108_HeightsWeights.html\"> ***HKkids***</a> has information about the weight and height of 25000 kids from Hong Kong, collected in 1993 for a growth study. We will be using only these two measures in order to simplify the problem. (But we could have used a dataset with all the chest, arms, neck, waist, etc. measurements if we wanted!)  \n",
    "\n",
    "Now let's start playing with the data. We will work according to the following workflow:\n",
    "1. Load\n",
    "- Overview\n",
    "- Clean\n",
    "- Visualize"
   ]
  },
  {
   "cell_type": "markdown",
   "metadata": {
    "button": false,
    "new_sheet": false,
    "run_control": {
     "read_only": false
    }
   },
   "source": [
    "<div class=\"alert alert-success alertsuccess\" style=\"margin-top: 20px\">\n",
    "<font size = 3><strong>Expert tip:</strong></font>\n",
    "<br>\n",
    "<br>\n",
    "We will go through these steps very quickly. If you want a better explanation of the process of managing datasets, you can check the Introduction to R course.<p></p>\n",
    "\n",
    "</div>"
   ]
  },
  {
   "cell_type": "markdown",
   "metadata": {
    "button": false,
    "new_sheet": false,
    "run_control": {
     "read_only": false
    }
   },
   "source": [
    "### 1. Loading the data"
   ]
  },
  {
   "cell_type": "code",
   "execution_count": null,
   "metadata": {
    "button": false,
    "collapsed": true,
    "new_sheet": false,
    "run_control": {
     "read_only": false
    }
   },
   "outputs": [],
   "source": [
    "# Downloading the file to the Data Scientist Workbench\n",
    "download.file(\"https://ibm.box.com/shared/static/vw5gm9h25gnd7qdcmxm9exawphh0kgxy.csv\", \"/resources/data/HKkids.csv\")"
   ]
  },
  {
   "cell_type": "code",
   "execution_count": null,
   "metadata": {
    "button": false,
    "collapsed": true,
    "new_sheet": false,
    "run_control": {
     "read_only": false
    },
    "scrolled": false
   },
   "outputs": [],
   "source": [
    "# Reading the csv file\n",
    "HKkids <- read.csv(\"/resources/data/HKkids.csv\", sep =';')"
   ]
  },
  {
   "cell_type": "markdown",
   "metadata": {
    "button": false,
    "new_sheet": false,
    "run_control": {
     "read_only": false
    }
   },
   "source": [
    "### 2. Overview of the data"
   ]
  },
  {
   "cell_type": "code",
   "execution_count": null,
   "metadata": {
    "button": false,
    "collapsed": true,
    "new_sheet": false,
    "run_control": {
     "read_only": false
    },
    "scrolled": false
   },
   "outputs": [],
   "source": [
    "# What does the data look like?\n",
    "head(HKkids)"
   ]
  },
  {
   "cell_type": "code",
   "execution_count": null,
   "metadata": {
    "button": false,
    "collapsed": true,
    "new_sheet": false,
    "run_control": {
     "read_only": false
    }
   },
   "outputs": [],
   "source": [
    "# Changing column names to shorter names\n",
    "colnames(HKkids) <- c(\"Index\", \"Height\", \"Weight\")"
   ]
  },
  {
   "cell_type": "code",
   "execution_count": null,
   "metadata": {
    "button": false,
    "collapsed": true,
    "new_sheet": false,
    "run_control": {
     "read_only": false
    },
    "scrolled": true
   },
   "outputs": [],
   "source": [
    "# Let's check general information  about the data!\n",
    "str(HKkids)"
   ]
  },
  {
   "cell_type": "markdown",
   "metadata": {
    "button": false,
    "new_sheet": false,
    "run_control": {
     "read_only": false
    }
   },
   "source": [
    "### 3. Cleaning the data"
   ]
  },
  {
   "cell_type": "code",
   "execution_count": null,
   "metadata": {
    "button": false,
    "collapsed": true,
    "new_sheet": false,
    "run_control": {
     "read_only": false
    },
    "scrolled": true
   },
   "outputs": [],
   "source": [
    "# Removing the unnecessary index column\n",
    "HKkids$Index <- NULL"
   ]
  },
  {
   "cell_type": "markdown",
   "metadata": {
    "button": false,
    "new_sheet": false,
    "run_control": {
     "read_only": false
    }
   },
   "source": [
    "### 4. Visualizing the data"
   ]
  },
  {
   "cell_type": "code",
   "execution_count": null,
   "metadata": {
    "button": false,
    "collapsed": true,
    "new_sheet": false,
    "run_control": {
     "read_only": false
    },
    "scrolled": false
   },
   "outputs": [],
   "source": [
    "# It is always good practice to visualize your data!\n",
    "\n",
    "# install the ggplot2 package\n",
    "if(\"ggplot2\" %in% rownames(installed.packages()) == FALSE) {install.packages(\"ggplot2\")}\n",
    "library(ggplot2)\n",
    "\n",
    "ggplot(HKkids, aes(x = HKkids$Height, y = HKkids$Weight)) +\n",
    "geom_point(shape=1, size = 2, color = \"black\", alpha = 1/3) +\n",
    "geom_point(size = 0.1, color = \"red4\", alpha = 1/3) +\n",
    "labs (x = \"Height (Inches)\", y = \"Weight (Pounds)\")"
   ]
  },
  {
   "cell_type": "markdown",
   "metadata": {
    "button": false,
    "new_sheet": false,
    "run_control": {
     "read_only": false
    }
   },
   "source": [
    "-----------------------"
   ]
  },
  {
   "cell_type": "markdown",
   "metadata": {
    "button": false,
    "new_sheet": false,
    "run_control": {
     "read_only": false
    }
   },
   "source": [
    "<a id=\"ref4\"></a>\n",
    "# A quick implementation\n",
    "\n",
    "In the beginning of this notebook, it was mentioned that **K-means** is a simple algorithm for clustering. Because of that, despite its <a href = \"http://www.kdnuggets.com/2015/01/data-science-102-kmeans-clustering-not-free-lunch.html\">limitations</a>, it's faster to implement than other more complex methods.\n",
    "\n",
    "In this section, we will show a quick implementation of the K-means algorithm. The implementation will be divided into three main sections:\n",
    "\n",
    "1. Normalization\n",
    "- Applying K-means\n",
    "- Insights\n",
    "    - Finding the size of each T-shirt\n",
    "    - How well is each T-shirt fitting?"
   ]
  },
  {
   "cell_type": "markdown",
   "metadata": {
    "button": false,
    "new_sheet": false,
    "run_control": {
     "read_only": false
    }
   },
   "source": [
    "### 1. Normalizing\n",
    "\n",
    "Now let's normalize the dataset. But why do we need normalization in the first place? Normalization is a statistical method that helps mathematical-based algorithms to interpret features with different magnitudes and distributions equally by converting them into comparable units. Here, we normalize taking the z-scores of the two variables."
   ]
  },
  {
   "cell_type": "code",
   "execution_count": null,
   "metadata": {
    "button": false,
    "collapsed": true,
    "new_sheet": false,
    "run_control": {
     "read_only": false
    }
   },
   "outputs": [],
   "source": [
    "# Calculate and store the mean and standard deviation for each dataset, before we normalize\n",
    "original_height_mean = mean(HKkids$Height)\n",
    "original_height_sd = sd(HKkids$Height)\n",
    "original_weight_mean = mean(HKkids$Weight)\n",
    "original_weight_sd = sd(HKkids$Weight)"
   ]
  },
  {
   "cell_type": "code",
   "execution_count": null,
   "metadata": {
    "button": false,
    "collapsed": true,
    "new_sheet": false,
    "run_control": {
     "read_only": false
    }
   },
   "outputs": [],
   "source": [
    "# Z-scoring\n",
    "HKkids$Height <- (HKkids$Height - original_height_mean) / original_height_sd\n",
    "HKkids$Weight <- (HKkids$Weight - original_weight_mean) / original_weight_sd"
   ]
  },
  {
   "cell_type": "markdown",
   "metadata": {
    "button": false,
    "new_sheet": false,
    "run_control": {
     "read_only": false
    }
   },
   "source": [
    "### 2. Applying K-means clustering\n",
    "Remember when we explained what <a href=\"#ref100\">the number of t-shirts sizes, the dimensions of each t-shirt and number of experiments</a> represent in our implementation of K-means? Back then, we talked about the **number of iterations, number of clusters and cluster centroids**. Let's first review what each of these parameters mean in our problem, and then explain a little bit more about each.\n",
    "- <font color = green>\"Some experiments\"</font> refers to the multiple **number of iterations** of the algorithm;\n",
    "- <font color = green>How many t-shirt sizes</font> is defined by the **number of clusters**;\n",
    "- <font color = green>Which dimensions should each t-shirt size</font> will be defined by the **cluster centroids**.\n",
    "\n"
   ]
  },
  {
   "cell_type": "markdown",
   "metadata": {
    "button": false,
    "new_sheet": false,
    "run_control": {
     "read_only": false
    }
   },
   "source": [
    "The K-means algorithm uses an **iterative** approach to find the best solution. In other words, multiple \"experiments\" are done, by first guessing random values for the **cluster centroids** which is called the cluster assignment step.\n",
    "\n",
    "1. Choose k cluster centers \n",
    "    - option1: Select k objects randomly as centroids\n",
    "    - option1: Initialize k centroids randomly\n",
    "2. Calculate the distance of all objects from k centroids, using a distance measurment, e.g. Euclidean distance.\n",
    "2. Assign each objects to the closest cluster center.\n",
    "3. Recompute the position of  cluster centers using the current cluster memberships.\n",
    "4. If a convergence criterion is not met, go to step 2. Typical convergence criteria are: no (or minimal) reassignment of patterns to new cluster centers, or minimal decrease in squared error.\n",
    "\n",
    "\n",
    "In our example (if we didn't have access to the k-means algorithm), it would be the same as guessing that each t-shirt size (Small, Medium and Large) would have certain dimensions, ask everyone in the population to try each one of the t-shirts and check how well fitted were the chosen dimensions. Depending on the feedback, we would then lower or increase the dimensions of each t-shirt. However, using the K-means clustering we can do all this process \"virtually\" (Which is cheaper, faster and easier). The **number of iterations** is basically how many times we want to \"virtually produce\" t-shirts and get feedback on how right the sizes are."
   ]
  },
  {
   "cell_type": "markdown",
   "metadata": {
    "button": false,
    "new_sheet": false,
    "run_control": {
     "read_only": false
    }
   },
   "source": [
    "The **number of clusters** is the number of divisions we want to create in the dataset. This is a parameter that can be tuned or pre-determined by the problem we want to solve. Usually, there is a **trade-off that must be faced**. As the number of clusters increases, each cluster gets more homogeneous. But working with more clusters is often **more expensive**. \n",
    "\n",
    "Let's illustrate this trade-off with t-shirts: Why we don't see 20 different t-shirt sizes or even, one custom-made t-shirt for every person that comes to a clothing store? Well, actually... there are some brands that do that. But they are generally a lot more expensive. Also higher K value (number of clusters) will potentially lead to model overfitting problem."
   ]
  },
  {
   "cell_type": "markdown",
   "metadata": {
    "button": false,
    "new_sheet": false,
    "run_control": {
     "read_only": false
    }
   },
   "source": [
    "Now that you know a lot about the basics of the k-means algorithm, let's move to the implementation. (Finally!)"
   ]
  },
  {
   "cell_type": "code",
   "execution_count": null,
   "metadata": {
    "button": false,
    "collapsed": true,
    "new_sheet": false,
    "run_control": {
     "read_only": false
    }
   },
   "outputs": [],
   "source": [
    "# \"HKkids\" is our data\n",
    "# \"centers\" is the number of clusters\n",
    "# \"iter.max\" is the number of iterations\n",
    "# Try experimenting with different numbers!\n",
    "clusters_numbers = kmeans (HKkids, centers = 3, iter.max = 10)"
   ]
  },
  {
   "cell_type": "code",
   "execution_count": null,
   "metadata": {
    "button": false,
    "collapsed": true,
    "new_sheet": false,
    "run_control": {
     "read_only": false
    }
   },
   "outputs": [],
   "source": [
    "# We are using a color_offset = 4 just for making things easier to see.\n",
    "# Try experimenting with different numbers!\n",
    "color_offset = 4"
   ]
  },
  {
   "cell_type": "code",
   "execution_count": null,
   "metadata": {
    "button": false,
    "collapsed": true,
    "new_sheet": false,
    "run_control": {
     "read_only": false
    }
   },
   "outputs": [],
   "source": [
    "# We have to convert numbers to categorical data in order to color the chart\n",
    "HKkids$Cluster <- as.factor(clusters_numbers$cluster + color_offset)"
   ]
  },
  {
   "cell_type": "code",
   "execution_count": null,
   "metadata": {
    "button": false,
    "collapsed": true,
    "new_sheet": false,
    "run_control": {
     "read_only": false
    },
    "scrolled": true
   },
   "outputs": [],
   "source": [
    "# Checking if the cluster assignments are there ! (Notice that the clusters are numbered with the color_offset!)\n",
    "head(HKkids)"
   ]
  },
  {
   "cell_type": "code",
   "execution_count": null,
   "metadata": {
    "button": false,
    "collapsed": true,
    "new_sheet": false,
    "run_control": {
     "read_only": false
    }
   },
   "outputs": [],
   "source": [
    "ggplot() +\n",
    "geom_point(data = HKkids, aes(x = HKkids$Height, y = HKkids$Weight), shape=1, size = 2, color = \"black\", alpha = 1/2) +\n",
    "geom_point(data = HKkids, aes(x = HKkids$Height, y = HKkids$Weight), shape=1, size = 0.1, colour = HKkids$Cluster, alpha = 1/2) +\n",
    "labs (x = \"Height (Inches)\", y = \"Weight (Pounds)\")"
   ]
  },
  {
   "cell_type": "markdown",
   "metadata": {
    "button": false,
    "new_sheet": false,
    "run_control": {
     "read_only": false
    }
   },
   "source": [
    "That's a cool visualization, right? (We could even use it as the first logo for our t-shirts.)"
   ]
  },
  {
   "cell_type": "markdown",
   "metadata": {
    "button": false,
    "new_sheet": false,
    "run_control": {
     "read_only": false
    }
   },
   "source": [
    "<div class=\"alert alert-success alertsuccess\" style=\"margin-top: 20px\">\n",
    "<font size = 3><strong>Expert tip:</strong></font>\n",
    "<br>\n",
    "<br>\n",
    "Why don't you try changing the \"centers\" or the \"color_offset\" values in the beginning of this section? <p></p>\n",
    "\n",
    "</div>"
   ]
  },
  {
   "cell_type": "markdown",
   "metadata": {
    "button": false,
    "new_sheet": false,
    "run_control": {
     "read_only": false
    }
   },
   "source": [
    "### 3. Insights"
   ]
  },
  {
   "cell_type": "markdown",
   "metadata": {
    "button": false,
    "new_sheet": false,
    "run_control": {
     "read_only": false
    }
   },
   "source": [
    "#### The size of each t-shirt\n",
    "In order to get the size of each t-shirt, we just have to look at the location of each **cluster centroid**."
   ]
  },
  {
   "cell_type": "code",
   "execution_count": null,
   "metadata": {
    "button": false,
    "collapsed": true,
    "new_sheet": false,
    "run_control": {
     "read_only": false
    }
   },
   "outputs": [],
   "source": [
    "# Extracting the cluster centroids\n",
    "Cluster_centroids <- as.data.frame(clusters_numbers$centers)"
   ]
  },
  {
   "cell_type": "code",
   "execution_count": null,
   "metadata": {
    "button": false,
    "collapsed": true,
    "new_sheet": false,
    "run_control": {
     "read_only": false
    },
    "scrolled": false
   },
   "outputs": [],
   "source": [
    "# Plotting the centroids found\n",
    "ggplot() +\n",
    "geom_point(data = HKkids, aes(x = HKkids$Height, y = HKkids$Weight), shape=1, size = 2, color = \"black\", alpha = 1/10) +\n",
    "geom_point(data = HKkids, aes(x = HKkids$Height, y = HKkids$Weight), shape=1, size = 0.1, colour = HKkids$Cluster, alpha = 1/4) +\n",
    "geom_point(data = Cluster_centroids, aes(x = Cluster_centroids$Height, y = Cluster_centroids$Weight), shape = 1, size = 3, color = \"black\") +\n",
    "geom_point(data = Cluster_centroids, aes(x = Cluster_centroids$Height, y = Cluster_centroids$Weight), shape = 1, size = 5, color = \"black\") +\n",
    "geom_point(data = Cluster_centroids, aes(x = Cluster_centroids$Height, y = Cluster_centroids$Weight), shape = 3, size = 10, color = \"black\") +\n",
    "labs (x = \"Height (Inches)\", y = \"Weight (Pounds)\")"
   ]
  },
  {
   "cell_type": "code",
   "execution_count": null,
   "metadata": {
    "button": false,
    "collapsed": true,
    "new_sheet": false,
    "run_control": {
     "read_only": false
    }
   },
   "outputs": [],
   "source": [
    "# Checking the location of each cluster centroid\n",
    "Cluster_centroids"
   ]
  },
  {
   "cell_type": "code",
   "execution_count": null,
   "metadata": {
    "button": false,
    "collapsed": true,
    "new_sheet": false,
    "run_control": {
     "read_only": false
    }
   },
   "outputs": [],
   "source": [
    "# Undoing the normalization\n",
    "tee_sizes <- Cluster_centroids\n",
    "tee_sizes$Height <- (tee_sizes$Height * original_height_sd) + original_height_mean\n",
    "tee_sizes$Weight <- (tee_sizes$Weight * original_weight_sd) + original_weight_mean"
   ]
  },
  {
   "cell_type": "code",
   "execution_count": null,
   "metadata": {
    "button": false,
    "collapsed": true,
    "new_sheet": false,
    "run_control": {
     "read_only": false
    },
    "scrolled": true
   },
   "outputs": [],
   "source": [
    "# Printing the size of each t-shirt\n",
    "tee_sizes"
   ]
  },
  {
   "cell_type": "markdown",
   "metadata": {
    "button": false,
    "new_sheet": false,
    "run_control": {
     "read_only": false
    }
   },
   "source": [
    "We found the t-shirt sizes !"
   ]
  },
  {
   "cell_type": "markdown",
   "metadata": {
    "button": false,
    "new_sheet": false,
    "run_control": {
     "read_only": false
    }
   },
   "source": [
    "<div class=\"alert alert-danger alertdanger\" style=\"margin-top: 20px\">\n",
    "<font size = 3><strong>Comment:</strong></font>\n",
    "<br>\n",
    "<br>\n",
    "\n",
    "The tee sizes are not sorted in ascending order. We can use the function *which* to find the true indices corresponding to small, medium and large sizes .<p></p>\n",
    "\n",
    "</div>"
   ]
  },
  {
   "cell_type": "markdown",
   "metadata": {
    "button": false,
    "new_sheet": false,
    "run_control": {
     "read_only": false
    }
   },
   "source": [
    "Small size "
   ]
  },
  {
   "cell_type": "code",
   "execution_count": null,
   "metadata": {
    "button": false,
    "collapsed": true,
    "new_sheet": false,
    "run_control": {
     "read_only": false
    }
   },
   "outputs": [],
   "source": [
    "small <- which(tee_sizes$Height==min(tee_sizes$Height))\n",
    "tee_sizes[small,]"
   ]
  },
  {
   "cell_type": "markdown",
   "metadata": {
    "button": false,
    "new_sheet": false,
    "run_control": {
     "read_only": false
    }
   },
   "source": [
    "Medium size"
   ]
  },
  {
   "cell_type": "code",
   "execution_count": null,
   "metadata": {
    "button": false,
    "collapsed": true,
    "new_sheet": false,
    "run_control": {
     "read_only": false
    }
   },
   "outputs": [],
   "source": [
    "medium <- which(tee_sizes$Height==median(tee_sizes$Height))\n",
    "tee_sizes[medium,]"
   ]
  },
  {
   "cell_type": "markdown",
   "metadata": {
    "button": false,
    "new_sheet": false,
    "run_control": {
     "read_only": false
    }
   },
   "source": [
    "Large size"
   ]
  },
  {
   "cell_type": "code",
   "execution_count": null,
   "metadata": {
    "button": false,
    "collapsed": true,
    "new_sheet": false,
    "run_control": {
     "read_only": false
    }
   },
   "outputs": [],
   "source": [
    "large <- which(tee_sizes$Height==max(tee_sizes$Height))\n",
    "tee_sizes[large,]"
   ]
  },
  {
   "cell_type": "markdown",
   "metadata": {
    "button": false,
    "new_sheet": false,
    "run_control": {
     "read_only": false
    }
   },
   "source": [
    "#### How well each t-shirt is fitting ?"
   ]
  },
  {
   "cell_type": "markdown",
   "metadata": {
    "button": false,
    "new_sheet": false,
    "run_control": {
     "read_only": false
    }
   },
   "source": [
    "Since we were trying to find the best sizes for each t-shirt, it's good to check if our sizes are fitting most of the people in  their respective population segments. By checking the **standard deviation**, we can have a clue about how well we are doing that job. In other words, the standard deviation will tell whether if some of the customers will find very tight or very loose t-shirts, or not-so-tight and not-so-loose t-shirts. The lower, the better."
   ]
  },
  {
   "cell_type": "markdown",
   "metadata": {
    "button": false,
    "new_sheet": false,
    "run_control": {
     "read_only": false
    }
   },
   "source": [
    "<div class=\"alert alert-danger alertdanger\" style=\"margin-top: 20px\">\n",
    "<font size = 3><strong>Comment:</strong></font>\n",
    "<br>\n",
    "<br>\n",
    "\n",
    "Similar to the previous update, the previous version of this notebook has the small cluster number = 1 + color_offset, which is not always true since cluster numbers are randomly selected and either the large or medium cluster could have been assigned as cluster number [1+ color_offset].\n",
    "\n",
    "The variables small, medium and large are used to replace the indices used in the previous version.<p></p>\n",
    "\n",
    "</div>"
   ]
  },
  {
   "cell_type": "code",
   "execution_count": null,
   "metadata": {
    "button": false,
    "collapsed": true,
    "new_sheet": false,
    "run_control": {
     "read_only": false
    }
   },
   "outputs": [],
   "source": [
    "# Creating subsets for each one of the segments of the population\n",
    "small_HKkids <- HKkids[HKkids$Cluster == small + color_offset,]\n",
    "medium_HKkids <- HKkids[HKkids$Cluster == medium + color_offset,]\n",
    "large_HKkids <- HKkids[HKkids$Cluster == large + color_offset,]"
   ]
  },
  {
   "cell_type": "code",
   "execution_count": null,
   "metadata": {
    "button": false,
    "collapsed": true,
    "new_sheet": false,
    "run_control": {
     "read_only": false
    }
   },
   "outputs": [],
   "source": [
    "# Storing all the standard deviations of each cluster to our tee_size matrix\n",
    "tee_sizes$sd_Height[small] = sd(small_HKkids$Height)\n",
    "tee_sizes$sd_Height[medium] = sd(medium_HKkids$Height)\n",
    "tee_sizes$sd_Height[large] = sd(large_HKkids$Height)\n",
    "tee_sizes$sd_Weight[small] = sd(small_HKkids$Weight)\n",
    "tee_sizes$sd_Weight[medium] = sd(medium_HKkids$Weight)\n",
    "tee_sizes$sd_Weight[large] = sd(large_HKkids$Weight)"
   ]
  },
  {
   "cell_type": "code",
   "execution_count": null,
   "metadata": {
    "button": false,
    "collapsed": true,
    "new_sheet": false,
    "run_control": {
     "read_only": false
    },
    "scrolled": true
   },
   "outputs": [],
   "source": [
    "tee_sizes"
   ]
  },
  {
   "cell_type": "markdown",
   "metadata": {
    "button": false,
    "new_sheet": false,
    "run_control": {
     "read_only": false
    }
   },
   "source": [
    "As we can see, there is only approximately 1% of standard deviation for each segment, which is a pretty good result!"
   ]
  },
  {
   "cell_type": "markdown",
   "metadata": {
    "button": false,
    "new_sheet": false,
    "run_control": {
     "read_only": false
    }
   },
   "source": [
    "With this insight, we finish this class! We hope that you can now apply the K-means algorithm to solve your **own problems.**"
   ]
  },
  {
   "cell_type": "markdown",
   "metadata": {},
   "source": [
    "### Conclusion"
   ]
  },
  {
   "cell_type": "markdown",
   "metadata": {},
   "source": [
    "1.  There are two main advantages in using K-Means: \n",
    "    - First, it’s easy to understand\n",
    "    - And second, it’s very fast compared to many other clustering algorithms\n",
    "\n",
    "2.  K-Means also has some disadvantages, as well.  \n",
    "    - First, It has no specified initialization of cluster points and it has a high variation of clustering models based on initialization of cluster points\n",
    "    - Second, getting accurate results depends on distance measuring metrics.\n",
    "And finally, there is the possibility of a centroid not having data points in its group, therefore not being able to be updated.\n"
   ]
  },
  {
   "cell_type": "markdown",
   "metadata": {
    "button": false,
    "new_sheet": false,
    "run_control": {
     "read_only": false
    }
   },
   "source": [
    "<div class=\"alert alert-success alertsuccess\" style=\"margin-top: 20px\">\n",
    "<font size = 3><strong>Expert tip:</strong></font>\n",
    "<br>\n",
    "<br>\n",
    "Now that you know how we applied the K-means to a specific problem, it's time to think about what kind of problem you can solve with this new tool. You can start by searching about it in the internet, and use this notebook as a quick way to apply K-means to these different problems.<p></p>\n",
    "\n",
    "</div>"
   ]
  },
  {
   "cell_type": "markdown",
   "metadata": {},
   "source": [
    "## Want to learn more?\n",
    "\n",
    "IBM SPSS Modeler is a comprehensive analytics platform that has many machine learning algorithms. It has been designed to bring predictive intelligence to decisions made by individuals, by groups, by systems – by your enterprise as a whole. A free trial is available through this course, available here: [SPSS Modeler for Mac users](https://cocl.us/ML0151EN_SPSSMod_mac) and [SPSS Modeler for Windows users](https://cocl.us/ML0151EN_SPSSMod_win)\n",
    "\n",
    "Also, you can use Data Science Experience to run these notebooks faster with bigger datasets. Data Science Experience is IBM's leading cloud solution for data scientists, built by data scientists. With Jupyter notebooks, RStudio, Apache Spark and popular libraries pre-packaged in the cloud, DSX enables data scientists to collaborate on their projects without having to install anything. Join the fast-growing community of DSX users today with a free account at [Data Science Experience](https://cocl.us/ML0151EN_DSX)"
   ]
  },
  {
   "cell_type": "markdown",
   "metadata": {
    "button": false,
    "new_sheet": false,
    "run_control": {
     "read_only": false
    }
   },
   "source": [
    "### Thanks for completing this lesson!\n",
    "\n",
    "Notebook created by: <a href = \"https://ca.linkedin.com/in/erich-natsubori-sato\">Erich Natsubori Sato</a> , <a href = \"https://ca.linkedin.com/in/saeedaghabozorgi\">Saeed Aghabozorgi</a>"
   ]
  },
  {
   "cell_type": "markdown",
   "metadata": {
    "button": false,
    "new_sheet": false,
    "run_control": {
     "read_only": false
    }
   },
   "source": [
    "<hr>\n",
    "Copyright &copy; 2016 [Cognitive Class](https://cognitiveClass.ai/?utm_source=bducopyrightlink&utm_medium=dswb&utm_campaign=bdu). This notebook and its source code are released under the terms of the [MIT License](https://bigdatauniversity.com/mit-license/)."
   ]
  },
  {
   "cell_type": "code",
   "execution_count": null,
   "metadata": {
    "collapsed": true
   },
   "outputs": [],
   "source": []
  }
 ],
 "metadata": {
  "anaconda-cloud": {},
  "kernelspec": {
   "display_name": "Apache Toree - SparkR",
   "language": "r",
   "name": "apache_toree_sparkr"
  },
  "language_info": {
   "file_extension": ".R",
   "name": "R",
   "pygments_lexer": "r",
   "version": "3.3.2\n"
  }
 },
 "nbformat": 4,
 "nbformat_minor": 1
}
