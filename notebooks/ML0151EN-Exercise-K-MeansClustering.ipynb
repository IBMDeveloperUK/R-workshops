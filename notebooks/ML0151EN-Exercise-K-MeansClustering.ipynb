{
 "cells": [
  {
   "cell_type": "markdown",
   "metadata": {},
   "source": [
    "<a href=\"https://www.bigdatauniversity.com\"><img src = \"https://ibm.box.com/shared/static/cw2c7r3o20w9zn8gkecaeyjhgw3xdgbj.png\" width = 400, align = \"center\"></a>\n",
    "\n",
    "<h1 align=center><font size = 5> K-Means Clustering Exercises in R</font></h1>"
   ]
  },
  {
   "cell_type": "markdown",
   "metadata": {},
   "source": [
    "   ### Exercise 1: Wholesale Customer Analysis\n",
    "\n",
    "A wholesale distributor wants to design a targeted marketing campaign based on their customers' spendings.\n",
    "We have set of customer annual spending data for 6 categories of goods."
   ]
  },
  {
   "cell_type": "code",
   "execution_count": null,
   "metadata": {
    "collapsed": true
   },
   "outputs": [],
   "source": [
    "# download file and save \n",
    "download.file(\"https://ibm.box.com/shared/static/36ulo2vaeqyglj1dxz3b75093vdmgp5q.csv\", destfile = \"wholesale_customers.csv\", quiet = FALSE)\n",
    "sale <- read.csv(\"wholesale_customers.csv\", sep =',')\n",
    "## What does the dataset look like?  ##\n",
    "head(sale)"
   ]
  },
  {
   "cell_type": "markdown",
   "metadata": {},
   "source": [
    "#### 1) How to decide the K value?"
   ]
  },
  {
   "cell_type": "code",
   "execution_count": null,
   "metadata": {
    "collapsed": true
   },
   "outputs": [],
   "source": [
    "## Hint: Exclude the Channel and Region variables first before clustering ## \n",
    "\n",
    "## Your Answer Code Here ## \n",
    "\n",
    "\n",
    "\n"
   ]
  },
  {
   "cell_type": "markdown",
   "metadata": {},
   "source": [
    "<div align=\"right\">\n",
    "<a href=\"#p1\" class=\"btn btn-default\" data-toggle=\"collapse\">Click here for the solution</a>\n",
    "</div>\n",
    "<div id=\"p1\" class=\"collapse\">\n",
    "```\n",
    "threshold <- 1.5 # define threshold\n",
    "## Answer Code: ##\n",
    "# Cleaning up the data\n",
    "sale.group <- sale\n",
    "sale.group$Channel <- NULL\n",
    "sale.group$Region <- NULL\n",
    "\n",
    "milk_mean = mean(sale.group$Milk)\n",
    "milk_sd = sd(sale.group$Milk)\n",
    "fresh_mean = mean(sale.group$Fresh)\n",
    "fresh_sd = sd(sale.group$Fresh)\n",
    "gro_mean = mean(sale.group$Grocery)\n",
    "gro_sd = sd(sale.group$Grocery)\n",
    "frozen_mean = mean(sale.group$Frozen)\n",
    "frozen_sd = sd(sale.group$Frozen)\n",
    "paper_mean = mean(sale.group$Detergents_Paper)\n",
    "paper_sd = sd(sale.group$Detergents_Paper)\n",
    "del_mean = mean(sale.group$Delicassen)\n",
    "del_sd = sd(sale.group$Delicassen)\n",
    "\n",
    "sale.group$Milk <- (sale.group$Milk - milk_mean) / milk_sd\n",
    "sale.group$Fresh <- (sale.group$Fresh - fresh_mean) / fresh_sd\n",
    "sale.group$Grocery <- (sale.group$Grocery - gro_mean) / gro_sd\n",
    "sale.group$Frozen <- (sale.group$Frozen - frozen_mean) / frozen_sd\n",
    "sale.group$Detergents_Paper <- (sale.group$Detergents_Paper - paper_mean) / paper_sd\n",
    "sale.group$Delicassen <- (sale.group$Delicassen - del_mean) / del_sd\n",
    "    \n",
    "```\n",
    "</div>"
   ]
  },
  {
   "cell_type": "code",
   "execution_count": null,
   "metadata": {
    "collapsed": true
   },
   "outputs": [],
   "source": [
    "# Elbow Method: Help choose the value of K which minimize the standard deviation within each cluster\n",
    "wssplot <- function(data, nc=15, seed=1234){\n",
    "  wss <- (nrow(data)-1)*sum(apply(data,2,var))\n",
    "  for (i in 2:nc){\n",
    "    set.seed(seed)\n",
    "    wss[i] <- sum(kmeans(data, centers=i)$withinss)}\n",
    "  plot(1:nc, wss, type=\"b\", xlab=\"Number of Clusters\",\n",
    "       ylab=\"Within groups sum of squares\")}\n",
    "\n",
    "wssplot(sale.group)  \n"
   ]
  },
  {
   "cell_type": "markdown",
   "metadata": {},
   "source": [
    "Based on this elbow method, we would select 5 clusters. \n",
    "\n",
    "Notice: Another way of finding the optimal K is ploting of Hubert index. The Hubert index is a graphical method of determining the number of clusters.In the plot of Hubert index, we seek a significant knee that corresponds to a significant increase of the value of the measure i.e the significant peak in Hubert index second differences plot. "
   ]
  },
  {
   "cell_type": "code",
   "execution_count": null,
   "metadata": {
    "collapsed": true
   },
   "outputs": [],
   "source": [
    "# We can also look at how the optimal K changes along with the number of criteria\n",
    "\n",
    "install.packages(\"NbClust\")\n",
    "library(NbClust)\n",
    "set.seed(12345)\n",
    "nc <- NbClust(sale.group, min.nc=2, max.nc=6, method=\"kmeans\")\n",
    "table(nc$Best.n[1,])\n",
    "\n",
    "barplot(table(nc$Best.n[1,]), \n",
    "          xlab=\"Numer of Clusters\", ylab=\"Number of Criteria\",\n",
    "          main=\"Number of Clusters Chosen by 6 Criteria\")\n"
   ]
  },
  {
   "cell_type": "markdown",
   "metadata": {},
   "source": [
    "**Answer: k = 5**\n",
    "\n",
    "Tip: Practically when choosing K we usually need to consider how many clusters will best answer downstream questions. "
   ]
  },
  {
   "cell_type": "markdown",
   "metadata": {},
   "source": [
    "#### 2) If we set K = 5, how do the spendings on Fresh and Frozen foods of each cluster look like?"
   ]
  },
  {
   "cell_type": "code",
   "execution_count": null,
   "metadata": {
    "collapsed": true
   },
   "outputs": [],
   "source": [
    "## Your Answer Code Here: ##\n",
    "\n",
    "\n",
    "\n",
    "\n",
    "\n",
    "\n",
    "\n"
   ]
  },
  {
   "cell_type": "markdown",
   "metadata": {},
   "source": [
    "<div align=\"right\">\n",
    "<a href=\"#p2\" class=\"btn btn-default\" data-toggle=\"collapse\">Click here for the solution</a>\n",
    "</div>\n",
    "<div id=\"p2\" class=\"collapse\">\n",
    "```\n",
    "result <- kmeans(sale.group, 5)  \n",
    "Cluster_centroids <- as.data.frame(result$centers)\n",
    "spending <- Cluster_centroids\n",
    "spending$Fresh <- (spending$Fresh * fresh_sd) + fresh_mean\n",
    "spending$Frozen <- (spending$Frozen * frozen_sd) + frozen_mean\n",
    "\n",
    "# the spending on fresh food for the five clusters\n",
    "spending[,1]\n",
    "\n",
    "# the spending on frozen food for the five clusters\n",
    "spending[,4]\n",
    "    \n",
    "```\n",
    "</div>"
   ]
  },
  {
   "cell_type": "code",
   "execution_count": null,
   "metadata": {
    "collapsed": true
   },
   "outputs": [],
   "source": [
    "## spending of all the categories in the five clusters \n",
    "spending"
   ]
  },
  {
   "cell_type": "markdown",
   "metadata": {},
   "source": [
    "#### 3) How well did the K-means clustering uncover the actual structure of the data contained in the Channel variable?"
   ]
  },
  {
   "cell_type": "code",
   "execution_count": null,
   "metadata": {
    "collapsed": true
   },
   "outputs": [],
   "source": [
    "install.packages(\"flexclust\")\n",
    "library(flexclust)"
   ]
  },
  {
   "cell_type": "code",
   "execution_count": null,
   "metadata": {
    "collapsed": true
   },
   "outputs": [],
   "source": [
    "# A cross-tabulation of Channel and cluster membership is given by:\n",
    "\n",
    "## Your Answer Code Here: ##\n",
    "\n",
    "\n",
    "\n",
    "\n"
   ]
  },
  {
   "cell_type": "markdown",
   "metadata": {},
   "source": [
    "<div align=\"right\">\n",
    "<a href=\"#p3\" class=\"btn btn-default\" data-toggle=\"collapse\">Click here for the solution</a>\n",
    "</div>\n",
    "<div id=\"p3\" class=\"collapse\">\n",
    "```\n",
    "# A cross-tabulation of Channel and cluster membership is given by\n",
    "\n",
    "ch.fit <- table(sale$Channel, result$cluster)\n",
    "ch.fit\n",
    "randIndex(ch.fit) \n",
    "    \n",
    "```\n",
    "</div>"
   ]
  },
  {
   "cell_type": "markdown",
   "metadata": {},
   "source": [
    "**Answer:** \n",
    "\n",
    "**ARI is the adjusted Rand index**. The Rand index is a measure of the similarity between two data clusterings. Here ARI is 0.33, so the similarity between the two clusterings is not very similar. \n",
    "\n",
    "The clusters based on annual spending doesn't quite represent Channel structure which implies the marketing campaigns may not necessarily be channel-specific.\n"
   ]
  },
  {
   "cell_type": "markdown",
   "metadata": {},
   "source": [
    "### Exercise 2: Image Compression\n",
    "\n",
    "#### 1) Think about how K-means can be applied on image data compression"
   ]
  },
  {
   "cell_type": "markdown",
   "metadata": {},
   "source": [
    "If we see each pixel as a data point then choose the number of colours(K) that best groups the pixels in 3-dimensional(RGB encoding) space. The K-means clustering will reduce the colours of the image to K. It's a practice of balancing between efficiency and sharpness.\n"
   ]
  },
  {
   "cell_type": "markdown",
   "metadata": {},
   "source": [
    "#### 2) Plot the original image \n",
    "Find the sample JPG. picture below:\n",
    "https://ibm.box.com/shared/static/w9nnfoxpr9rnb1qw82gcrapgadzh3onn.jpg"
   ]
  },
  {
   "cell_type": "markdown",
   "metadata": {},
   "source": [
    "<div class=\"alert alert-danger alertdanger\" style=\"margin-top: 20px\">\n",
    "<font size = 3><strong>Comment:</strong></font>\n",
    "<br>\n",
    "<br>\n",
    "Added code to download the image and store it under resources.<p></p>\n",
    "\n",
    "</div>"
   ]
  },
  {
   "cell_type": "code",
   "execution_count": null,
   "metadata": {
    "collapsed": true
   },
   "outputs": [],
   "source": [
    "install.packages(\"jpeg\")\n",
    "library(\"jpeg\")\n",
    "download.file(\"https://ibm.box.com/shared/static/w9nnfoxpr9rnb1qw82gcrapgadzh3onn.jpg\",\"/resources/data/exercise2.jpg\")\n",
    "\n",
    "pic <- readJPEG(\"/resources/data/exercise2.jpg\")"
   ]
  },
  {
   "cell_type": "code",
   "execution_count": null,
   "metadata": {
    "collapsed": true
   },
   "outputs": [],
   "source": [
    "## Your Answer Code Here: ## \n",
    "\n",
    "\n",
    "\n",
    "\n",
    "\n"
   ]
  },
  {
   "cell_type": "markdown",
   "metadata": {},
   "source": [
    "<div align=\"right\">\n",
    "<a href=\"#p4\" class=\"btn btn-default\" data-toggle=\"collapse\">Click here for the solution</a>\n",
    "</div>\n",
    "<div id=\"p4\" class=\"collapse\">\n",
    "```\n",
    "#Obtain the location and colour dimensions of pixels from the image\n",
    "imgDm <- dim(pic)\n",
    "\n",
    "picRGB <- data.frame(\n",
    "  x_axis = rep(1:imgDm[2], each = imgDm[1]),\n",
    "  y_axis = rep(imgDm[1]:1, imgDm[2]),\n",
    "  R = as.vector(pic[,,1]),\n",
    "  G = as.vector(pic[,,2]),\n",
    "  B = as.vector(pic[,,3])\n",
    ")\n",
    "\n",
    "library(ggplot2)\n",
    "ggplot(data = picRGB, aes(x = x_axis, y = y_axis)) +\n",
    "  geom_point(colour = rgb(picRGB[ c(\"R\", \"G\", \"B\")])) +\n",
    "  labs(title = \"Original Image\") +\n",
    "  xlab(\"x_axis\") +\n",
    "  ylab(\"y_axis\")\n",
    "    \n",
    "```\n",
    "</div>"
   ]
  },
  {
   "cell_type": "markdown",
   "metadata": {},
   "source": [
    "#### 3) Applying K-means clustering on pixels\n",
    "To do this, you will first run K-Means on the colors of the pixels in the image and then you will map each pixel on to it's closest centroid.\n",
    "The choice of K determines how many colors are used to re-create. The lower the K is the more compressed the image."
   ]
  },
  {
   "cell_type": "code",
   "execution_count": null,
   "metadata": {
    "collapsed": true
   },
   "outputs": [],
   "source": [
    "## Your Answer Code Here: ##\n",
    "\n",
    "## let's start using 16 clusters ## \n",
    "\n",
    "\n",
    "\n",
    "\n"
   ]
  },
  {
   "cell_type": "markdown",
   "metadata": {},
   "source": [
    "<div align=\"right\">\n",
    "<a href=\"#p5\" class=\"btn btn-default\" data-toggle=\"collapse\">Click here for the solution</a>\n",
    "</div>\n",
    "<div id=\"p5\" class=\"collapse\">\n",
    "```\n",
    "# We are now trying to compress the image to 16 colours\n",
    "kClusters <- 16\n",
    "kMeans16 <- kmeans(picRGB[, c(\"R\", \"G\", \"B\")], centers = kClusters)\n",
    "\n",
    "kColours <- rgb(kMeans16$centers[kMeans16$cluster,])\n",
    "\n",
    "ggplot(data = picRGB, aes(x = x_axis, y = y_axis)) + \n",
    "  geom_point(colour = kColours) +\n",
    "  labs(title = paste(\"k-Means Clustering of\", kClusters, \"Colours\")) +\n",
    "  xlab(\"x\") +\n",
    "  ylab(\"y\")\n",
    "    \n",
    "```\n",
    "</div>"
   ]
  },
  {
   "cell_type": "code",
   "execution_count": null,
   "metadata": {
    "collapsed": true
   },
   "outputs": [],
   "source": [
    "# Changing the k to 5\n",
    "kClusters <- 5\n",
    "kMeans5 <- kmeans(picRGB[, c(\"R\", \"G\", \"B\")], centers = kClusters)\n",
    "\n",
    "kColours <- rgb(kMeans5$centers[kMeans5$cluster,])\n",
    "\n",
    "ggplot(data = picRGB, aes(x = x_axis, y = y_axis)) + \n",
    "  geom_point(colour = kColours) +\n",
    "  labs(title = paste(\"k-Means Clustering of\", kClusters, \"Colours\")) +\n",
    "  xlab(\"x\") +\n",
    "  ylab(\"y\")\n",
    "\n",
    "#As you can see the image got quite blurred using only 5 colours"
   ]
  },
  {
   "cell_type": "code",
   "execution_count": null,
   "metadata": {
    "collapsed": true
   },
   "outputs": [],
   "source": [
    "# Lastly we further compress the picture to 3 colours\n",
    "kClusters <- 3\n",
    "kMeans3 <- kmeans(picRGB[, c(\"R\", \"G\", \"B\")], centers = kClusters)\n",
    "\n",
    "kColours <- rgb(kMeans3$centers[kMeans3$cluster,])\n",
    "\n",
    "ggplot(data = picRGB, aes(x = x_axis, y = y_axis)) + \n",
    "  geom_point(colour = kColours) +\n",
    "  labs(title = paste(\"k-Means Clustering of\", kClusters, \"Colours\")) +\n",
    "  xlab(\"x\") +\n",
    "  ylab(\"y\")\n",
    "# Look at how the K value changes the sharpness of the imag!\n",
    "# It looks like the dolphine is disappearing in the water!"
   ]
  },
  {
   "cell_type": "markdown",
   "metadata": {},
   "source": [
    "## Want to learn more?\n",
    "\n",
    "IBM SPSS Modeler is a comprehensive analytics platform that has many machine learning algorithms. It has been designed to bring predictive intelligence to decisions made by individuals, by groups, by systems – by your enterprise as a whole. A free trial is available through this course, available here: [SPSS Modeler for Mac users](https://cocl.us/ML0151EN_SPSSMod_mac) and [SPSS Modeler for Windows users](https://cocl.us/ML0151EN_SPSSMod_win)\n",
    "\n",
    "Also, you can use Data Science Experience to run these notebooks faster with bigger datasets. Data Science Experience is IBM's leading cloud solution for data scientists, built by data scientists. With Jupyter notebooks, RStudio, Apache Spark and popular libraries pre-packaged in the cloud, DSX enables data scientists to collaborate on their projects without having to install anything. Join the fast-growing community of DSX users today with a free account at [Data Science Experience](https://cocl.us/ML0151EN_DSX)"
   ]
  },
  {
   "cell_type": "markdown",
   "metadata": {
    "collapsed": true
   },
   "source": [
    "### Thanks for completing this lesson!\n",
    "\n",
    "Notebook created by: Christina Y. Zheng"
   ]
  },
  {
   "cell_type": "markdown",
   "metadata": {
    "collapsed": true
   },
   "source": [
    "<hr>\n",
    "Copyright &copy; 2017 [IBM Cognitive Class](https://cocl.us/ML0151_cclab). This notebook and its source code are released under the terms of the [MIT License](https://cognitiveclass.ai/mit-license/)."
   ]
  },
  {
   "cell_type": "code",
   "execution_count": null,
   "metadata": {
    "collapsed": true
   },
   "outputs": [],
   "source": []
  }
 ],
 "metadata": {
  "anaconda-cloud": {},
  "kernelspec": {
   "display_name": "R",
   "language": "R",
   "name": "ir"
  },
  "language_info": {
   "codemirror_mode": "r",
   "file_extension": ".r",
   "mimetype": "text/x-r-source",
   "name": "R",
   "pygments_lexer": "r",
   "version": "3.4.0"
  },
  "widgets": {
   "state": {},
   "version": "1.1.2"
  }
 },
 "nbformat": 4,
 "nbformat_minor": 1
}
