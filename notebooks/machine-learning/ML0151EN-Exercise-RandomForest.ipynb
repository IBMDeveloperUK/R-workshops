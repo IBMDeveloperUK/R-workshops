{
 "cells": [
  {
   "cell_type": "markdown",
   "metadata": {},
   "source": [
    "<a href=\"https://www.bigdatauniversity.com\"><img src = \"https://ibm.box.com/shared/static/cw2c7r3o20w9zn8gkecaeyjhgw3xdgbj.png\" width = 400, align = \"center\"></a>\n",
    "\n",
    "<h1 align=center><font size = 5> Random Forest in R: Exercise </font></h1>"
   ]
  },
  {
   "cell_type": "code",
   "execution_count": null,
   "metadata": {},
   "outputs": [],
   "source": [
    "# Install the package \"randomForest\"./resources/Random-Forests-in-R.ipynb\n",
    "install.packages(\"randomForest\")\n",
    "library(randomForest)"
   ]
  },
  {
   "cell_type": "markdown",
   "metadata": {},
   "source": [
    "In the description example of Random Forest, we used the **iris** database to understand how this algorithm can be used for classification. In the following exercise, we are going to learn how to use Random Forest for regression analysis. In terms of regression analysis using random forest method, we may see instances where the individual trees are **weak** predictors, however the final combined random forest model is much **stronger**, thus being able to give better predictions. The major parameter of interest in this case, is the resulting **importance** value, as you will see below. \n",
    "\n",
    "For this case study, we will use housing sales data and its dependencies. The keywords are:\n",
    "\n",
    "Sldprice - House sale price  \n",
    "rooms - Number of rooms  \n",
    "beds - No of bedrooms  \n",
    "d_cbd - Distance to centre of town  \n",
    "hway_1 - Within 5 km of highway   \n",
    "sway_1 - Within 1 km of subway  \n",
    "hh_avinc - average household income  \n",
    "detach - detached  \n",
    "brick - brick  \n",
    "air_con - air condition  \n",
    "bsmt_fin - finished basement  \n",
    "\n"
   ]
  },
  {
   "cell_type": "markdown",
   "metadata": {},
   "source": [
    "As a first step, read in the data from the csv file and have a quick look at the various attributes and some of their values."
   ]
  },
  {
   "cell_type": "code",
   "execution_count": null,
   "metadata": {},
   "outputs": [],
   "source": [
    "my_data1 <- read.csv(\"https://ibm.box.com/shared/static/fzceg5vdj9hxpf7aopgvfgobi1g4vb4v.csv\")\n",
    "\n",
    "head(my_data1)"
   ]
  },
  {
   "cell_type": "markdown",
   "metadata": {},
   "source": [
    "Since we are going to analyse housing prices, it is good practice to get a better understanding of this variable. We can use the plot() function as one method of doing this. To ensure that there are no NA values, we can use the na.omit() function. We perform these steps to prepare the data for our random forest implementation."
   ]
  },
  {
   "cell_type": "code",
   "execution_count": null,
   "metadata": {},
   "outputs": [],
   "source": [
    "plot(my_data1$sldprice)"
   ]
  },
  {
   "cell_type": "code",
   "execution_count": null,
   "metadata": {
    "collapsed": true
   },
   "outputs": [],
   "source": [
    "## removing NAs from the data \n",
    "\n",
    "new_data <- na.omit(my_data1)"
   ]
  },
  {
   "cell_type": "markdown",
   "metadata": {},
   "source": [
    "Now to the actual work. Just like in the description example, we are going to use all the features to create the random forest. Since regression analysis makes sense with the **importance** value, we need to include this keyword.   \n"
   ]
  },
  {
   "cell_type": "markdown",
   "metadata": {},
   "source": [
    "Q1. Just like in the example, can you model the data for selling price, including all of the variables and with the \"importance\" parameter set to true and print out the fit?"
   ]
  },
  {
   "cell_type": "code",
   "execution_count": null,
   "metadata": {
    "collapsed": true
   },
   "outputs": [],
   "source": [
    "## Your Answer Code Here: ##\n",
    "\n",
    "\n",
    "\n",
    "\n",
    "\n"
   ]
  },
  {
   "cell_type": "markdown",
   "metadata": {},
   "source": [
    "<div align=\"right\">\n",
    "<a href=\"#p1\" class=\"btn btn-default\" data-toggle=\"collapse\">Click here for the solution</a>\n",
    "</div>\n",
    "<div id=\"p1\" class=\"collapse\">\n",
    "```\n",
    "fit1 <- randomForest(sldprice~hh_avinc+rooms+beds+sway_1+hway_1+d_cbd+detach+air_con+brick+bsmt_fin,data=new_data,importance=TRUE)\n",
    "\n",
    "print(fit1)\n",
    "```\n",
    "</div>"
   ]
  },
  {
   "cell_type": "markdown",
   "metadata": {},
   "source": [
    "From the resulting fit, we understand that **3** variables are randomly selected at each tree node and the model can explain **~73%** of the variability in the data. You can learn more about the meaning of these values in a regression module."
   ]
  },
  {
   "cell_type": "markdown",
   "metadata": {},
   "source": [
    "Let us have a look at the importance factor. We can use the **type** keyword in the importance function to look at only the percentage increase in MSE."
   ]
  },
  {
   "cell_type": "markdown",
   "metadata": {},
   "source": [
    "Q2: Can you print out the importance factor, preferably rounded to two decimal places and comment on the values observed?"
   ]
  },
  {
   "cell_type": "code",
   "execution_count": null,
   "metadata": {
    "collapsed": true
   },
   "outputs": [],
   "source": [
    "## Your Answer Code Here: ##\n",
    "\n",
    "\n",
    "\n"
   ]
  },
  {
   "cell_type": "markdown",
   "metadata": {},
   "source": [
    "<div align=\"right\">\n",
    "<a href=\"#p2\" class=\"btn btn-default\" data-toggle=\"collapse\">Click here for the solution</a>\n",
    "</div>\n",
    "<div id=\"p2\" class=\"collapse\">\n",
    "```\n",
    "round(importance(fit1,type=1),2)\n",
    "```\n",
    "</div>"
   ]
  },
  {
   "cell_type": "markdown",
   "metadata": {},
   "source": [
    "The important deciding factors for housing prices are the average household income (hh_avinc), the distance to the centre of town (d_cbd), and the number of rooms (room)."
   ]
  },
  {
   "cell_type": "markdown",
   "metadata": {},
   "source": [
    "When the **trees** are being created, there are instances, where one **branch** will be very similar to another **branch**. The algorithm computes a parameter called **proximity** to identify these instances. When we use this keyword while computing the model, the branches with similar characteristics, will be merged. \n",
    "\n",
    "To understand this, we will fit the model again with this keyword, print the model and look at the importance value as before."
   ]
  },
  {
   "cell_type": "markdown",
   "metadata": {},
   "source": [
    "Q3: Fit the model with same variables along with the **proximity** keyword, print the fit and importance factor. Comment and compare on the importance factors with the previous fit."
   ]
  },
  {
   "cell_type": "code",
   "execution_count": null,
   "metadata": {
    "collapsed": true
   },
   "outputs": [],
   "source": [
    "## Your Answer Code Here: ##\n",
    "\n",
    "\n",
    "\n",
    "\n"
   ]
  },
  {
   "cell_type": "markdown",
   "metadata": {},
   "source": [
    "<div align=\"right\">\n",
    "<a href=\"#p3\" class=\"btn btn-default\" data-toggle=\"collapse\">Click here for the solution</a>\n",
    "</div>\n",
    "<div id=\"p3\" class=\"collapse\">\n",
    "```\n",
    "fit2 <- randomForest(sldprice~hh_avinc+rooms+beds+sway_1+hway_1+d_cbd+detach+air_con+brick+bsmt_fin,data=new_data,proximity=TRUE,action=na.omit,importance=TRUE)\n",
    "print(fit2)\n",
    "round(importance(fit2,type=1),2)\n",
    "```\n",
    "</div>"
   ]
  },
  {
   "cell_type": "markdown",
   "metadata": {},
   "source": [
    "Although both models predict the average house hold income to  be the most important deciding factor on housing prices, the importance of the distance to centre of town and the number of rooms differ significantly. \n",
    "\n",
    "Also from the % variation explained, the second model is slightly better in terms of the fit to the data.   \n",
    "These small variations can make a noticeable difference when we are using these models for predicting future housing prices. "
   ]
  },
  {
   "cell_type": "markdown",
   "metadata": {},
   "source": [
    "Now, let us plot these two models to see how the errors evolved during the process. \n",
    "\n",
    "Q4: Divide the plot area into two and simply plot the individual fits and comment on  your observation."
   ]
  },
  {
   "cell_type": "code",
   "execution_count": null,
   "metadata": {
    "collapsed": true
   },
   "outputs": [],
   "source": [
    "## Your Answer Code Here: ##\n",
    "\n",
    "\n",
    "\n"
   ]
  },
  {
   "cell_type": "markdown",
   "metadata": {},
   "source": [
    "<div align=\"right\">\n",
    "<a href=\"#p4\" class=\"btn btn-default\" data-toggle=\"collapse\">Click here for the solution</a>\n",
    "</div>\n",
    "<div id=\"p4\" class=\"collapse\">\n",
    "```\n",
    "par(mfrow=c(1,2))\n",
    "    plot(fit1)\n",
    "plot(fit2)\n",
    "\n",
    "```\n",
    "</div>"
   ]
  },
  {
   "cell_type": "markdown",
   "metadata": {},
   "source": [
    "The errors decrease almost exponentially with the increase in the number of trees. However, it is also interesting to note that the range of errors differ between the two models. This gives us an helpful clue in understanding how the underlying algorithm works, w.r.t, the **proximity** keyword."
   ]
  },
  {
   "cell_type": "markdown",
   "metadata": {
    "collapsed": true
   },
   "source": [
    "It is important to understand that there will be differences each time you run the same forest with the same parameter, due to the random nature of the algorithm. Hence, the percentages may not match every time. "
   ]
  },
  {
   "cell_type": "markdown",
   "metadata": {},
   "source": [
    "Now that you have learnt how to use random forest algorithm for both classification of data as well as in regression analysis, it is time for you to try these techniques with your own datasets. Best wishes!!"
   ]
  },
  {
   "cell_type": "markdown",
   "metadata": {},
   "source": [
    "## Want to learn more?\n",
    "\n",
    "IBM SPSS Modeler is a comprehensive analytics platform that has many machine learning algorithms. It has been designed to bring predictive intelligence to decisions made by individuals, by groups, by systems – by your enterprise as a whole. A free trial is available through this course, available here: [SPSS Modeler for Mac users](https://cocl.us/ML0151EN_SPSSMod_mac) and [SPSS Modeler for Windows users](https://cocl.us/ML0151EN_SPSSMod_win)\n",
    "\n",
    "Also, you can use Data Science Experience to run these notebooks faster with bigger datasets. Data Science Experience is IBM's leading cloud solution for data scientists, built by data scientists. With Jupyter notebooks, RStudio, Apache Spark and popular libraries pre-packaged in the cloud, DSX enables data scientists to collaborate on their projects without having to install anything. Join the fast-growing community of DSX users today with a free account at [Data Science Experience](https://cocl.us/ML0151EN_DSX)"
   ]
  },
  {
   "cell_type": "markdown",
   "metadata": {},
   "source": [
    "### Thanks for completing this lesson!\n",
    "\n",
    "Notebook created by: Vino Sangaralingam"
   ]
  },
  {
   "cell_type": "markdown",
   "metadata": {},
   "source": [
    "<hr>\n",
    "Copyright &copy; 2017 [IBM Cognitive Class](https://cognitiveclass.ai/?utm_source=ML0151&utm_medium=lab&utm_campaign=cclab). This notebook and its source code are released under the terms of the [MIT License](https://cognitiveclass.ai/mit-license/)."
   ]
  }
 ],
 "metadata": {
  "anaconda-cloud": {},
  "kernelspec": {
   "display_name": "R",
   "language": "R",
   "name": "ir"
  },
  "language_info": {
   "codemirror_mode": "r",
   "file_extension": ".r",
   "mimetype": "text/x-r-source",
   "name": "R",
   "pygments_lexer": "r",
   "version": "3.4.0"
  }
 },
 "nbformat": 4,
 "nbformat_minor": 1
}
