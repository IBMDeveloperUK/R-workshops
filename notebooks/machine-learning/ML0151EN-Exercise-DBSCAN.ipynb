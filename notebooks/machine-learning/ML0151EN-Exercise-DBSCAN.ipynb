{
 "cells": [
  {
   "cell_type": "markdown",
   "metadata": {},
   "source": [
    "<a href=\"https://www.bigdatauniversity.com\"><img src = \"https://ibm.box.com/shared/static/cw2c7r3o20w9zn8gkecaeyjhgw3xdgbj.png\" width = 400, align = \"center\"></a>\n",
    "\n",
    "<h1 align=center><font size = 5> Exercise: Desnity-based Clustering (DBSCAN) </font></h1>"
   ]
  },
  {
   "cell_type": "markdown",
   "metadata": {},
   "source": [
    "## The problem\n",
    "We would like to analyze kernels of wheat to find a method through which we can group kernels by size. We will first consider clustering by just the size of the kernel (kernel length and width), and then we will look at creating clusters based on all numerical variables in the dataset.\n",
    "In this notebook, we will load and explore <font color = \"green\"> 'seeds.txt' </font> in R, which is a dataset containing measurements of geometrical properties of kernels belonging to three different varieties of wheat. \n",
    "\n",
    "The DBSCAN algorithm combines data points that are closely packed together into clusters based on the parameters **eps** and **minPts**. \n",
    "\n",
    "The **eps** parameter corresponds to the size of the neighborhood. \n",
    "\n",
    "The **minPts** parameter corresponds to the minimum number of points that must exist in this neighborhood to define it as a dense area. \n",
    "\n",
    "This exercise covers:\n",
    "\n",
    "1. Installing and loading the DBSCAN library and the data in R\n",
    "2. Creating a subset containing kernel length and width from the datatset\n",
    "3. Using the dbscan function to obtain clusters\n",
    "4. Converting the clusters to factors \n",
    "5. Attaching the clusters to the measurements\n",
    "6. Visualizing the results\n",
    "7. Considering all numerical variables\n",
    "8. Conclusion\n"
   ]
  },
  {
   "cell_type": "markdown",
   "metadata": {},
   "source": [
    "## Installing and loading the DBSCAN library and the data in R\n",
    "We begin by installing the dbscan package and loading it along with the dataset .\n",
    "\n"
   ]
  },
  {
   "cell_type": "code",
   "execution_count": null,
   "metadata": {},
   "outputs": [],
   "source": [
    "# Installing the library 'dbscan'\n",
    "install.packages(\"dbscan\", dependencies = TRUE)\n",
    "library('dbscan')"
   ]
  },
  {
   "cell_type": "code",
   "execution_count": null,
   "metadata": {},
   "outputs": [],
   "source": [
    "# Load data\n",
    "seeds <- read.csv(\"https://ibm.box.com/shared/static/c1aw37ex3sx99pb9q2l8fwz643wnbeo6.txt\", sep = \"\t\")\n",
    "head(seeds)"
   ]
  },
  {
   "cell_type": "markdown",
   "metadata": {},
   "source": [
    "## Creating a subset from the dataset\n"
   ]
  },
  {
   "cell_type": "code",
   "execution_count": null,
   "metadata": {},
   "outputs": [],
   "source": [
    "# Creating the subset: The subset contains the kernel width and the kernel length\n",
    "seeds.sub <- subset(seeds, select = c(width,length))\n",
    "head(seeds.sub)\n"
   ]
  },
  {
   "cell_type": "markdown",
   "metadata": {},
   "source": [
    "## Using the dbscan function to obtain clusters\n",
    "Use the dbscan function to obtain clusters and store them in clusters_assignments1  \n",
    "For this exercise we will use eps = 0.8 and minPts = 4  \n",
    "Note: You can change the values to see the formation of different clusters  \n",
    "Noise points are assigned to cluster 0 by default  "
   ]
  },
  {
   "cell_type": "code",
   "execution_count": null,
   "metadata": {
    "collapsed": true
   },
   "outputs": [],
   "source": [
    "## Your Answer Code Here: ## \n",
    "\n",
    "\n",
    "\n"
   ]
  },
  {
   "cell_type": "markdown",
   "metadata": {},
   "source": [
    "<div align=\"right\">\n",
    "<a href=\"#p1\" class=\"btn btn-default\" data-toggle=\"collapse\">Click here for the solution</a>\n",
    "</div>\n",
    "<div id=\"p1\" class=\"collapse\">\n",
    "```\n",
    "clusters_assignments1 <- dbscan(seeds.sub, eps = .08, minPts = 4)\n",
    "clusters_assignments1 \n",
    "```\n",
    "</div>"
   ]
  },
  {
   "cell_type": "markdown",
   "metadata": {},
   "source": [
    "## Converting the clusters to factors\n"
   ]
  },
  {
   "cell_type": "code",
   "execution_count": null,
   "metadata": {
    "collapsed": true
   },
   "outputs": [],
   "source": [
    "## Your Answer Code Here: ## \n",
    "# Clusters must be converted to factor before plotting in different colors\n",
    "\n",
    "\n",
    "\n"
   ]
  },
  {
   "cell_type": "markdown",
   "metadata": {},
   "source": [
    "<div align=\"right\">\n",
    "<a href=\"#p2\" class=\"btn btn-default\" data-toggle=\"collapse\">Click here for the solution</a>\n",
    "</div>\n",
    "<div id=\"p2\" class=\"collapse\">\n",
    "```\n",
    "clusters_assignments1$cluster <- as.factor(clusters_assignments1$cluster)\n",
    "head(clusters_assignments1$cluster)\n",
    "```\n",
    "</div>"
   ]
  },
  {
   "cell_type": "markdown",
   "metadata": {},
   "source": [
    "## Attaching the clusters to the measurements\n"
   ]
  },
  {
   "cell_type": "code",
   "execution_count": null,
   "metadata": {},
   "outputs": [],
   "source": [
    "## Your Answer Code Here: ## \n",
    "# Combine the cluster assignments with the subset\n",
    "\n",
    "\n"
   ]
  },
  {
   "cell_type": "markdown",
   "metadata": {},
   "source": [
    "<div align=\"right\">\n",
    "<a href=\"#p3\" class=\"btn btn-default\" data-toggle=\"collapse\">Click here for the solution</a>\n",
    "</div>\n",
    "<div id=\"p3\" class=\"collapse\">\n",
    "```\n",
    "seeds.sub$cluster_no <- clusters_assignments1$cluster\n",
    "head(seeds.sub)\n",
    "```\n",
    "</div>"
   ]
  },
  {
   "cell_type": "markdown",
   "metadata": {},
   "source": [
    "## Visualizing the results\n"
   ]
  },
  {
   "cell_type": "code",
   "execution_count": null,
   "metadata": {
    "collapsed": true
   },
   "outputs": [],
   "source": [
    "## Your Answer Code Here: ## \n",
    "# Visualize results (noise is shown in black) using a simple plot\n",
    "\n",
    "\n",
    "\n",
    "\n"
   ]
  },
  {
   "cell_type": "markdown",
   "metadata": {},
   "source": [
    "<div align=\"right\">\n",
    "<a href=\"#p4\" class=\"btn btn-default\" data-toggle=\"collapse\">Click here for the solution</a>\n",
    "</div>\n",
    "<div id=\"p4\" class=\"collapse\">\n",
    "```\n",
    "plot(seeds.sub$width, seeds.sub$length, col = clusters_assignments1$cluster, pch = 16, main = \"Scatterplot Displaying Clusters\", xlab = \"Kernel Width\", ylab = \"Kernel Length\")\n",
    "legend(x = 2.6, y = 6.75, legend = levels(clusters_assignments1$cluster), col = c(1:5), pch = 16, title = \"Clusters\")\n",
    "```\n",
    "</div>"
   ]
  },
  {
   "cell_type": "markdown",
   "metadata": {},
   "source": [
    "## Considering all numerical variables\n"
   ]
  },
  {
   "cell_type": "code",
   "execution_count": null,
   "metadata": {
    "collapsed": true
   },
   "outputs": [],
   "source": [
    "## Your Answer Code Here: ## \n",
    "# Create subset including all numerical variables only.\n",
    "# Note: The variable 'type' is categorical.\n",
    "\n",
    "\n",
    "\n",
    "\n",
    "\n",
    "\n",
    "\n",
    "\n",
    "\n",
    "\n"
   ]
  },
  {
   "cell_type": "markdown",
   "metadata": {},
   "source": [
    "<div align=\"right\">\n",
    "<a href=\"#p5\" class=\"btn btn-default\" data-toggle=\"collapse\">Click here for the solution</a>\n",
    "</div>\n",
    "<div id=\"p5\" class=\"collapse\">\n",
    "```\n",
    "seeds.submain <- seeds[1:7]\n",
    "# We will run the dbscan algorithm with eps = 0.9 and minPts = 4.\n",
    "# Note: Using the previous value of eps = 0.08 will create only one cluster containing all datapoints.\n",
    "clusters_assignments2 <- dbscan(seeds.submain, eps = .9, minPts = 4)\n",
    "clusters_assignments2\n",
    "# Clusters must be converted to factor before plotting in different colors\n",
    "clusters_assignments2$cluster <- as.factor(clusters_assignments2$cluster)\n",
    "# Linking the assigned cluster to each station\n",
    "seeds.submain$cluster_no <- clusters_assignments2$cluster\n",
    "# Visualize results using a pairs plot (noise is shown in black)\n",
    "pairs(seeds.submain, col = clusters_assignments2$cluster, pch = 16, main = \"Scatterplot Displaying Clusters\")\n",
    "\n",
    "```\n",
    "</div>"
   ]
  },
  {
   "cell_type": "markdown",
   "metadata": {},
   "source": [
    "<div class=\"alert alert-success alertsuccess\" style=\"margin-top: 20px\">\n",
    "<font size = 3><strong>Aside:</strong></font>\n",
    "<br>\n",
    "<br>\n",
    "A pairs plot produces a matrix of scatterplots for each variable of the input dataset. To interpret a pairs plot consider it as a matrix with rows and columns. The variable stated in a row represents the variable that is used for the y-axis of all plots in that row. The variable stated in a column is the variable used for the x-axis of all plots in that column.<p></p>\n",
    "\n",
    "</div>"
   ]
  },
  {
   "cell_type": "markdown",
   "metadata": {},
   "source": [
    "## Conclusion\n",
    "\n",
    "The results from both implementations of the DBSCAN algorithm provide somewhat similar clusters when considering the geometric size of the kernel (kernel length and width). In both cases, cluster 1 represents kernels of a smaller geometric size, which comprises more than 60% of the datapoints. However, the implementation using all the numerical variables has fewer noise points (represented as cluster 0)."
   ]
  },
  {
   "cell_type": "markdown",
   "metadata": {},
   "source": [
    "### Thank you for completing this exercise!\n",
    "This notebook is part of the [ML with R](https://cognitiveclass.ai/courses/machine-learning-r/) course on [Cognitive Class](cognitiveclass.ai)\n",
    "\n",
    "Notebook created by: Dominique Warren"
   ]
  },
  {
   "cell_type": "markdown",
   "metadata": {},
   "source": [
    "### References:\n",
    "\n",
    "https://en.wikipedia.org/wiki/DBSCAN <br>\n",
    "https://cran.r-project.org/web/packages/dbscan/dbscan.pdf <br>\n",
    "https://www.aaai.org/Papers/KDD/1996/KDD96-037.pdf <br>\n",
    "http://www.cse.buffalo.edu/~jing/cse601/fa12/materials/clustering_density.pdf <br>"
   ]
  },
  {
   "cell_type": "markdown",
   "metadata": {},
   "source": [
    "<hr>\n",
    "Copyright &copy; 2017 [IBM Cognitive Class](https://cocl.us/ML0151EN_cclab_cc). This notebook and its source code are released under the terms of the [MIT License](https://cognitiveclass.ai/mit-license/).\n"
   ]
  },
  {
   "cell_type": "code",
   "execution_count": null,
   "metadata": {
    "collapsed": true
   },
   "outputs": [],
   "source": []
  }
 ],
 "metadata": {
  "kernelspec": {
   "display_name": "R",
   "language": "R",
   "name": "ir"
  },
  "language_info": {
   "codemirror_mode": "r",
   "file_extension": ".r",
   "mimetype": "text/x-r-source",
   "name": "R",
   "pygments_lexer": "r",
   "version": "3.4.0"
  },
  "widgets": {
   "state": {},
   "version": "1.1.2"
  }
 },
 "nbformat": 4,
 "nbformat_minor": 1
}
